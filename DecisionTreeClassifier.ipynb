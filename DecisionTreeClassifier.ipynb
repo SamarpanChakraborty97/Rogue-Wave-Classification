{
 "cells": [
  {
   "cell_type": "code",
   "execution_count": 4,
   "id": "10b9c99a-f1bd-4ae6-9cae-3348f7235373",
   "metadata": {},
   "outputs": [],
   "source": [
    "import os\n",
    "import IPython\n",
    "import IPython.display\n",
    "import matplotlib.pyplot as plt\n",
    "import numpy as np\n",
    "from sklearn.tree import DecisionTreeClassifier\n",
    "import pickle"
   ]
  },
  {
   "cell_type": "code",
   "execution_count": 5,
   "id": "3764fc6a-a310-45ba-b9a1-6abf20c3ffe2",
   "metadata": {},
   "outputs": [],
   "source": [
    "file_str=\"RWs_H_g_2p2_tadv_1min_rw_0.7\"\n",
    "LSTM_save_name= \"/best_LSTM_\"+file_str +\"checkpoint.model.keras\""
   ]
  },
  {
   "cell_type": "code",
   "execution_count": 6,
   "id": "abe107d8-d18c-41d0-910a-81ca228b4f13",
   "metadata": {},
   "outputs": [
    {
     "name": "stdout",
     "output_type": "stream",
     "text": [
      "wave_data_train\n",
      "wave_data_test\n",
      "label_train\n",
      "label_test\n"
     ]
    }
   ],
   "source": [
    "data=np.load('DataPrepared/'+file_str+\".npz\")\n",
    "#data=np.load(file_str+\".npz\")\n",
    "\n",
    "for vars in data:\n",
    "    print(vars)\n",
    "\n",
    "wave_data_train=data[\"wave_data_train\"]\n",
    "wave_data_test=data[\"wave_data_test\"]\n",
    "label_train=data[\"label_train\"]\n",
    "label_test=data[\"label_test\"]"
   ]
  },
  {
   "cell_type": "code",
   "execution_count": 7,
   "id": "fa665dea-3145-412d-8c57-57833e6361e4",
   "metadata": {},
   "outputs": [
    {
     "name": "stdout",
     "output_type": "stream",
     "text": [
      "(21297, 1536, 1)\n",
      "(5323, 1536, 1)\n"
     ]
    }
   ],
   "source": [
    "print(wave_data_train.shape)\n",
    "print(wave_data_test.shape)"
   ]
  },
  {
   "cell_type": "code",
   "execution_count": 8,
   "id": "3f64cbb0-13c1-4131-ad64-4dc140447570",
   "metadata": {},
   "outputs": [],
   "source": [
    "x_train = wave_data_train.reshape((wave_data_train.shape[0], wave_data_train.shape[1] * wave_data_train.shape[2]))\n",
    "x_test = wave_data_test.reshape((wave_data_test.shape[0], wave_data_test.shape[1] * wave_data_test.shape[2]))"
   ]
  },
  {
   "cell_type": "raw",
   "id": "6c396aa0-53ff-4f45-bdda-f8a223dda91e",
   "metadata": {},
   "source": [
    "import random\n",
    "np.random.seed(5) \n",
    "num_labels = 500 \n",
    "len_array_w = len(x_train) \n",
    "indices_waves = np.random.choice(len_array_w, num_labels, replace=False) \n",
    "\n",
    "x_train_modified = x_train[indices_waves]\n",
    "print(x_train_modified.shape) "
   ]
  },
  {
   "cell_type": "code",
   "execution_count": null,
   "id": "3b703f19-2906-44e7-8221-baeb3c6ee8ba",
   "metadata": {},
   "outputs": [],
   "source": [
    "clf = DecsionTreeClassifier(random_state = 0)"
   ]
  },
  {
   "cell_type": "code",
   "execution_count": null,
   "id": "2c262310-a9cb-4b8a-8f34-c17d9b38d16f",
   "metadata": {},
   "outputs": [
    {
     "name": "stdout",
     "output_type": "stream",
     "text": [
      "[LibSVM]"
     ]
    }
   ],
   "source": [
    "group_names = ['Correctly predicted','Incorrectly predicted',\\\n",
    "                   'Incorrectly predicted','Correctly predicted']\n",
    "    group_counts = [\"{0:0.0f}\".format(value) for value in\n",
    "                    confusion_matrix.flatten()]\n",
    "    group_percentages = [\"{0:.2%}\".format(value) for value in\n",
    "                         confusion_matrix.flatten()/np.sum(confusion_matrix)]\n",
    "    labels = [f\"{v1}\\n{v2}\\n{v3}\" for v1, v2, v3 in\n",
    "              zip(group_names,group_counts,group_percentages)]\n",
    "    labels = np.asarray(labels).reshape(2,2)\n",
    "    yaxislabels = ['Rogue waves absent','Rogue waves present']\n",
    "    xaxislabels = ['Predicted as absent','Predicted as present']\n",
    "    plt.figure(figsize=[6,6])\n",
    "    s = sns.heatmap(confusion_matrix, annot=labels, yticklabels=yaxislabels, xticklabels=xaxislabels, fmt='', cmap='Blues')\n",
    "    s.set_xlabel(\"Predicted label\", fontsize = 10)\n",
    "    s.set_ylabel(\"True label\", fontsize=10)"
   ]
  }
 ],
 "metadata": {
  "kernelspec": {
   "display_name": "Python 3 (ipykernel)",
   "language": "python",
   "name": "python3"
  },
  "language_info": {
   "codemirror_mode": {
    "name": "ipython",
    "version": 3
   },
   "file_extension": ".py",
   "mimetype": "text/x-python",
   "name": "python",
   "nbconvert_exporter": "python",
   "pygments_lexer": "ipython3",
   "version": "3.11.7"
  }
 },
 "nbformat": 4,
 "nbformat_minor": 5
}
