{
 "cells": [
  {
   "cell_type": "code",
   "execution_count": 13,
   "id": "30658f39",
   "metadata": {},
   "outputs": [
    {
     "name": "stdout",
     "output_type": "stream",
     "text": [
      "Depths for station 067 deployment 34: 335.2799987792969m\n"
     ]
    },
    {
     "name": "stderr",
     "output_type": "stream",
     "text": [
      "<ipython-input-13-f80f5f5d50df>:22: DeprecationWarning: `np.bool` is a deprecated alias for the builtin `bool`. To silence this warning, use `bool` by itself. Doing this will not modify any behavior and is safe. If you specifically wanted the numpy scalar type, use `np.bool_` here.\n",
      "Deprecated in NumPy 1.20; for more details and guidance: https://numpy.org/devdocs/release/1.20.0-notes.html#deprecations\n",
      "  depths = dataset.variables['metaWaterDepth'][:]\n"
     ]
    }
   ],
   "source": [
    "import netCDF4 as nc\n",
    "import numpy as np\n",
    "\n",
    "\n",
    "def get_buoy_depths(stn, deploy, dataset):\n",
    "    # Construct the URL for the NetCDF file\n",
    "    \n",
    "    # Archive\n",
    "    data_url = 'http://thredds.cdip.ucsd.edu/thredds/dodsC/cdip/archive/' + stn + 'p1/' + stn + 'p1_d' + deploy + '.nc'\n",
    "    # Realtime\n",
    "    if dataset == 'realtime':\n",
    "        data_url = 'http://thredds.cdip.ucsd.edu/thredds/dodsC/cdip/realtime/' + stn + 'p1_xy.nc'\n",
    "    \n",
    "    # Open the NetCDF file from the URL\n",
    "    dataset = nc.Dataset(data_url)\n",
    "    \n",
    "    # Print the available variables (optional, for exploration purposes)\n",
    "#     print(f\"Variables in the dataset: {dataset.variables.keys()}\")\n",
    "    \n",
    "    # Assuming 'depth' is the variable name for the depths of the buoys\n",
    "    if 'metaWaterDepth' in dataset.variables:\n",
    "        depths = dataset.variables['metaWaterDepth'][:]\n",
    "        return depths\n",
    "    else:\n",
    "        print(\"Depth variable not found in the dataset\")\n",
    "        return None\n",
    "\n",
    "# Example usage\n",
    "station_number = '067'\n",
    "deploy = '34'\n",
    "dataset = \"realtime\"\n",
    "\n",
    "depths = get_buoy_depths(station_number, deploy, dataset)\n",
    "\n",
    "if depths is not None:\n",
    "    print(f\"Depths for station {station_number} deployment {deploy}: {depths}m\")\n",
    "else:\n",
    "    print(\"Failed to retrieve depths\")\n"
   ]
  }
 ],
 "metadata": {
  "kernelspec": {
   "display_name": "Python 3 (ipykernel)",
   "language": "python",
   "name": "python3"
  },
  "language_info": {
   "codemirror_mode": {
    "name": "ipython",
    "version": 3
   },
   "file_extension": ".py",
   "mimetype": "text/x-python",
   "name": "python",
   "nbconvert_exporter": "python",
   "pygments_lexer": "ipython3",
   "version": "3.11.7"
  }
 },
 "nbformat": 4,
 "nbformat_minor": 5
}
